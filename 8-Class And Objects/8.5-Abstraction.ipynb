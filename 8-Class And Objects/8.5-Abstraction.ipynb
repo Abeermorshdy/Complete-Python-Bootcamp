{
 "cells": [
  {
   "cell_type": "markdown",
   "metadata": {},
   "source": [
    "#### Abstraction\n",
    "Abstraction is the concept of hiding the complex implementation details and showing only the necessary features of an object. This helps in reducing programming complexity and effort."
   ]
  },
  {
   "cell_type": "code",
   "execution_count": 3,
   "metadata": {},
   "outputs": [
    {
     "name": "stdout",
     "output_type": "stream",
     "text": [
      "Car enginer started\n",
      "The vehicle is used for driving\n"
     ]
    }
   ],
   "source": [
    "from abc import ABC,abstractmethod\n",
    "\n",
    "## Abstract base cclass\n",
    "class Vehicle(ABC):\n",
    "    def drive(self):\n",
    "        print(\"The vehicle is used for driving\")\n",
    "\n",
    "    @abstractmethod\n",
    "    def start_engine(self):\n",
    "        pass\n",
    "\n",
    "class Car(Vehicle):\n",
    "    def start_engine(self):\n",
    "        print(\"Car enginer started\")\n",
    "\n",
    "def operate_vehicle(vehicle):\n",
    "    vehicle.start_engine()\n",
    "    vehicle.drive()\n",
    "\n",
    "car=Car()\n",
    "operate_vehicle(car)\n",
    "\n"
   ]
  },
  {
   "cell_type": "markdown",
   "metadata": {},
   "source": [
    "### Assignment 5: Class Inheritance\n",
    "\n",
    "Create a base class named `Person` with attributes `name` and `age`. Create a derived class named `Employee` that inherits from `Person` and adds an attribute `employee_id`. Create an object of the derived class and print its attributes."
   ]
  },
  {
   "cell_type": "code",
   "execution_count": 1,
   "metadata": {},
   "outputs": [],
   "source": [
    "class Person():\n",
    "    def __init__(self,name,age):\n",
    "        self.name = name\n",
    "        self.age = age \n",
    "\n",
    "class Employee(Person):\n",
    "    def __init__(self,name,age,employee_id):\n",
    "        super().__init__(name,age)\n",
    "        self.employee_id = employee_id\n",
    "\n",
    "ahmed = Employee(\"Ahemd\",30,3421)\n"
   ]
  },
  {
   "cell_type": "code",
   "execution_count": 2,
   "metadata": {},
   "outputs": [
    {
     "data": {
      "text/plain": [
       "30"
      ]
     },
     "execution_count": 2,
     "metadata": {},
     "output_type": "execute_result"
    }
   ],
   "source": [
    "ahmed.age"
   ]
  },
  {
   "cell_type": "code",
   "execution_count": 3,
   "metadata": {},
   "outputs": [
    {
     "name": "stdout",
     "output_type": "stream",
     "text": [
      "<__main__.Employee object at 0x000001DE1ED92D80>\n"
     ]
    }
   ],
   "source": [
    "print(ahmed)"
   ]
  },
  {
   "cell_type": "code",
   "execution_count": 4,
   "metadata": {},
   "outputs": [
    {
     "data": {
      "text/plain": [
       "'<__main__.Employee object at 0x000001DE1ED92D80>'"
      ]
     },
     "execution_count": 4,
     "metadata": {},
     "output_type": "execute_result"
    }
   ],
   "source": [
    "ahmed.__str__()"
   ]
  },
  {
   "cell_type": "markdown",
   "metadata": {},
   "source": [
    "### Assignment 6: Method Overriding\n",
    "\n",
    "In the `Employee` class, override the `__str__` method to return a string representation of the object. Create an object of the class and print it."
   ]
  },
  {
   "cell_type": "code",
   "execution_count": 8,
   "metadata": {},
   "outputs": [],
   "source": [
    "class Employee(Person):\n",
    "    def __init__(self,name,age,employee_id):\n",
    "        super().__init__(name,age)\n",
    "        self.employee_id = employee_id\n",
    "\n",
    "    def __str__(self) -> str:\n",
    "        return f\"the name of the employee is {self.name}, the age is {self.age} and the id is {self.employee_id}\""
   ]
  },
  {
   "cell_type": "code",
   "execution_count": 9,
   "metadata": {},
   "outputs": [],
   "source": [
    "ahmed = Employee(\"Ahmed Ossama\", 30 , 436)"
   ]
  },
  {
   "cell_type": "code",
   "execution_count": 10,
   "metadata": {},
   "outputs": [
    {
     "name": "stdout",
     "output_type": "stream",
     "text": [
      "the name of the employee is Ahmed Ossama, the age is 30 and the id is 436\n"
     ]
    }
   ],
   "source": [
    "print(ahmed)"
   ]
  },
  {
   "cell_type": "code",
   "execution_count": null,
   "metadata": {},
   "outputs": [
    {
     "data": {
      "text/plain": [
       "'the name of the employee is Ahmed Ossama, the age is 30 and the id is 436'"
      ]
     },
     "execution_count": 11,
     "metadata": {},
     "output_type": "execute_result"
    }
   ],
   "source": [
    "ahmed.__str__()"
   ]
  },
  {
   "cell_type": "markdown",
   "metadata": {},
   "source": [
    "### Assignment 7: Class Composition\n",
    "\n",
    "Create a class named `Address` with attributes `street`, `city`, and `zipcode`. Create a class named `Person` that has an `Address` object as an attribute. Create an object of the `Person` class and print its address."
   ]
  },
  {
   "cell_type": "code",
   "execution_count": 14,
   "metadata": {},
   "outputs": [],
   "source": [
    "class Address ():\n",
    "    def __init__ (self,street,city,zipcode):\n",
    "        self.street = street\n",
    "        self.city = city\n",
    "        self.zipcode = zipcode\n",
    "\n",
    "class Person ():\n",
    "    def __init__(self,Address):\n",
    "        self.Address = Address\n",
    "\n",
    "address = Address(\"Ghazy\",\"Cairo\",2321)\n",
    "person1 = Person(address)"
   ]
  },
  {
   "cell_type": "code",
   "execution_count": 15,
   "metadata": {},
   "outputs": [
    {
     "data": {
      "text/plain": [
       "'Ghazy'"
      ]
     },
     "execution_count": 15,
     "metadata": {},
     "output_type": "execute_result"
    }
   ],
   "source": [
    "person1.Address.street"
   ]
  },
  {
   "cell_type": "markdown",
   "metadata": {},
   "source": [
    "### Assignment 8: Class with Class Variables\n",
    "\n",
    "Create a class named `Counter` with a class variable `count`. Each time an object is created, increment the count. Add a method to get the current count. Create multiple objects and print the count."
   ]
  },
  {
   "cell_type": "code",
   "execution_count": null,
   "metadata": {},
   "outputs": [
    {
     "data": {
      "text/plain": [
       "2"
      ]
     },
     "execution_count": 16,
     "metadata": {},
     "output_type": "execute_result"
    }
   ],
   "source": [
    "class Counter ():\n",
    "    count = 0 \n",
    "    \n",
    "    def __init__(self):\n",
    "        Counter.count += 1\n",
    "\n",
    "    @classmethod\n",
    "    def get_count (cls):\n",
    "        cls.count\n",
    "\n",
    "a = Counter()\n",
    "b = Counter()\n",
    "b.count \n"
   ]
  },
  {
   "cell_type": "markdown",
   "metadata": {},
   "source": [
    "### Assignment 9: Static Methods\n",
    "\n",
    "Create a class named `MathOperations` with a static method to calculate the square root of a number. Call the static method without creating an object."
   ]
  },
  {
   "cell_type": "code",
   "execution_count": 20,
   "metadata": {},
   "outputs": [
    {
     "data": {
      "text/plain": [
       "20"
      ]
     },
     "execution_count": 20,
     "metadata": {},
     "output_type": "execute_result"
    }
   ],
   "source": [
    "class MathOperations():\n",
    "    @staticmethod                # we don't have to create an object to use it\n",
    "    def abs(n):\n",
    "        if n < 0: return -n\n",
    "        else: return n\n",
    "\n",
    "    @staticmethod\n",
    "    def sum(a,b,c):\n",
    "        return a+b+c\n",
    "    \n",
    "MathOperations.abs(-20)"
   ]
  },
  {
   "cell_type": "code",
   "execution_count": 22,
   "metadata": {},
   "outputs": [
    {
     "data": {
      "text/plain": [
       "6"
      ]
     },
     "execution_count": 22,
     "metadata": {},
     "output_type": "execute_result"
    }
   ],
   "source": [
    "MathOperations.sum(1,2,3)"
   ]
  },
  {
   "cell_type": "markdown",
   "metadata": {},
   "source": [
    "### Assignment 10: Class with Properties\n",
    "\n",
    "Create a class named `Rectangle` with private attributes `length` and `width`. Use properties to get and set these attributes. Create an object of the class and test the properties."
   ]
  },
  {
   "cell_type": "code",
   "execution_count": 37,
   "metadata": {},
   "outputs": [],
   "source": [
    "class Rectangle ():\n",
    "    def __init__(self,length,width):\n",
    "        self._length = length\n",
    "        self._width = width \n",
    "\n",
    "    @property\n",
    "    def get_length(self):\n",
    "        return self._length\n",
    "\n",
    "    @get_length.setter\n",
    "    def length(self,length):\n",
    "        self._length = length\n",
    "    \n",
    "    @property\n",
    "    def get_width(self):\n",
    "        return self._width\n",
    "    \n",
    "    @get_width.setter\n",
    "    def get_width (self,width):\n",
    "        self._width = width\n",
    "    \n",
    "\n",
    "shape = Rectangle(2,4)"
   ]
  },
  {
   "cell_type": "code",
   "execution_count": 44,
   "metadata": {},
   "outputs": [],
   "source": [
    "shape._length = 5"
   ]
  },
  {
   "cell_type": "code",
   "execution_count": 45,
   "metadata": {},
   "outputs": [
    {
     "data": {
      "text/plain": [
       "5"
      ]
     },
     "execution_count": 45,
     "metadata": {},
     "output_type": "execute_result"
    }
   ],
   "source": [
    "shape._length "
   ]
  },
  {
   "cell_type": "code",
   "execution_count": null,
   "metadata": {},
   "outputs": [],
   "source": [
    "class Rectangle ():\n",
    "    def __init__(self,length,width):\n",
    "        self._length = length\n",
    "        self._width = width \n",
    "\n",
    "\n",
    "    @property\n",
    "    def get_length(self):\n",
    "        return self._length\n",
    "    \n",
    "\n",
    "    def length(self,length):\n",
    "        self._length = length\n",
    "\n",
    "    def get_width (self):\n",
    "        return self._width\n",
    "    \n",
    "\n",
    "shape = Rectangle(2,4)"
   ]
  },
  {
   "cell_type": "code",
   "execution_count": null,
   "metadata": {},
   "outputs": [
    {
     "data": {
      "text/plain": [
       "2"
      ]
     },
     "execution_count": 29,
     "metadata": {},
     "output_type": "execute_result"
    }
   ],
   "source": [
    "shape._length  # you can access it but it isn't recommended"
   ]
  },
  {
   "cell_type": "markdown",
   "metadata": {},
   "source": [
    "### Assignment 11: Abstract Base Class\n",
    "\n",
    "Create an abstract base class named `Shape` with an abstract method `area`. Create derived classes `Circle` and `Square` that implement the `area` method. Create objects of the derived classes and call the `area` method."
   ]
  },
  {
   "cell_type": "code",
   "execution_count": 48,
   "metadata": {},
   "outputs": [],
   "source": [
    "from abc import ABC, abstractmethod\n",
    "class Shape(ABC):\n",
    "    @abstractmethod\n",
    "    def area (self):\n",
    "        pass\n",
    "\n",
    "class Circle(Shape):\n",
    "    def __init__(self,x) -> None:\n",
    "        self.x = x\n",
    "    \n",
    "    def area(self):\n",
    "        return 3.14*self.x*self.x \n"
   ]
  },
  {
   "cell_type": "code",
   "execution_count": 49,
   "metadata": {},
   "outputs": [],
   "source": [
    "c1 = Circle(31)"
   ]
  },
  {
   "cell_type": "code",
   "execution_count": 50,
   "metadata": {},
   "outputs": [
    {
     "data": {
      "text/plain": [
       "3017.54"
      ]
     },
     "execution_count": 50,
     "metadata": {},
     "output_type": "execute_result"
    }
   ],
   "source": [
    "c1.area()"
   ]
  },
  {
   "cell_type": "code",
   "execution_count": 51,
   "metadata": {},
   "outputs": [],
   "source": [
    "c2 = Circle(3)"
   ]
  },
  {
   "cell_type": "markdown",
   "metadata": {},
   "source": [
    "### Assignment 12: Operator Overloading\n",
    "\n",
    "Create a class named `Vector` with attributes `x` and `y`. Overload the `+` operator to add two `Vector` objects. Create objects of the class and test the operator overloading."
   ]
  },
  {
   "cell_type": "code",
   "execution_count": 57,
   "metadata": {},
   "outputs": [],
   "source": [
    "class Vector:\n",
    "    def __init__(self,x,y):\n",
    "        self.x = x\n",
    "        self.y = y\n",
    "    \n",
    "    def __add__(self,other):\n",
    "        return Vector(self.x +other.x , self.y + other.y)\n",
    "    \n",
    "    def __str__(self):\n",
    "        print (f\"Vector {Vector} has x is {self.x} and y is {self.y}\")\n",
    "\n",
    "v1 = Vector(2,4)\n",
    "v2 = Vector(3,6)\n",
    "    "
   ]
  },
  {
   "cell_type": "code",
   "execution_count": 58,
   "metadata": {},
   "outputs": [],
   "source": [
    "v3 = v1.__add__(v2)"
   ]
  },
  {
   "cell_type": "code",
   "execution_count": 59,
   "metadata": {},
   "outputs": [
    {
     "name": "stdout",
     "output_type": "stream",
     "text": [
      "Vector <class '__main__.Vector'> has x is 5 and y is 10\n"
     ]
    }
   ],
   "source": [
    "v3.__str__()"
   ]
  },
  {
   "cell_type": "markdown",
   "metadata": {},
   "source": [
    "### Assignment 13: Class with Custom Exception\n",
    "\n",
    "Create a custom exception named `InsufficientBalanceError`. In the `BankAccount` class, raise this exception when a withdrawal amount is greater than the balance. Handle the exception and print an appropriate message."
   ]
  },
  {
   "cell_type": "code",
   "execution_count": 64,
   "metadata": {},
   "outputs": [],
   "source": [
    "class InsufficientBalanceError(Exception):\n",
    "    pass\n",
    "\n",
    "class BankAccount:\n",
    "    def __init__(self,AccountID,balance):\n",
    "        self.AccountID = AccountID\n",
    "        self.balance = balance\n",
    "\n",
    "    def withdraw (self,amount):\n",
    "            if amount > self.balance :\n",
    "                raise InsufficientBalanceError(\"Insufficient balance!\")\n",
    "            else:\n",
    "                self.balance -= amount\n"
   ]
  },
  {
   "cell_type": "code",
   "execution_count": 65,
   "metadata": {},
   "outputs": [],
   "source": [
    "acc1 = BankAccount(231,4000)"
   ]
  },
  {
   "cell_type": "code",
   "execution_count": 66,
   "metadata": {},
   "outputs": [
    {
     "name": "stdout",
     "output_type": "stream",
     "text": [
      "Error: Insufficient balance!\n"
     ]
    }
   ],
   "source": [
    "try:\n",
    "    acc1.withdraw(5000)\n",
    "except InsufficientBalanceError as e:\n",
    "    print(f\"Error: {e}\")"
   ]
  },
  {
   "cell_type": "code",
   "execution_count": 67,
   "metadata": {},
   "outputs": [],
   "source": [
    "class Calculator:\n",
    "    def __init__(self, value=0):\n",
    "        self.value = value\n",
    "\n",
    "    def add(self, amount):\n",
    "        self.value += amount\n",
    "        return self\n",
    "\n",
    "    def subtract(self, amount):\n",
    "        self.value -= amount\n",
    "        return self\n",
    "\n",
    "    def multiply(self, amount):\n",
    "        self.value *= amount\n",
    "        return self\n",
    "\n",
    "    def divide(self, amount):\n",
    "        if amount != 0:\n",
    "            self.value /= amount\n",
    "        else:\n",
    "            print(\"Cannot divide by zero!\")\n",
    "        return self\n",
    "\n",
    "# Test\n",
    "# calc = Calculator()\n",
    "# calc.add(10).subtract(3).multiply(2).divide(2)\n",
    "# print(calc.value)  # 7.0"
   ]
  },
  {
   "cell_type": "code",
   "execution_count": null,
   "metadata": {},
   "outputs": [
    {
     "name": "stdout",
     "output_type": "stream",
     "text": [
      "7.0\n"
     ]
    }
   ],
   "source": [
    "calc = Calculator()\n",
    "calc.add(10).subtract(3).multiply(2).divide(2)\n",
    "print(calc.value)  # 7.0"
   ]
  },
  {
   "cell_type": "code",
   "execution_count": 69,
   "metadata": {},
   "outputs": [],
   "source": [
    "class Calculator:\n",
    "    def __init__(self, value=0):\n",
    "        self.value = value\n",
    "\n",
    "    def add(self, amount):\n",
    "        self.value += amount\n",
    "        #return self\n",
    "\n",
    "    def subtract(self, amount):\n",
    "        self.value -= amount\n",
    "        #return self\n",
    "\n",
    "    def multiply(self, amount):\n",
    "        self.value *= amount\n",
    "        #return self\n",
    "\n",
    "    def divide(self, amount):\n",
    "        if amount != 0:\n",
    "            self.value /= amount\n",
    "        else:\n",
    "            print(\"Cannot divide by zero!\")\n",
    "        #return self\n",
    "\n",
    "# Test\n",
    "# calc = Calculator()\n",
    "# calc.add(10).subtract(3).multiply(2).divide(2)\n",
    "# print(calc.value)  # 7.0"
   ]
  },
  {
   "cell_type": "code",
   "execution_count": 70,
   "metadata": {},
   "outputs": [
    {
     "ename": "AttributeError",
     "evalue": "'NoneType' object has no attribute 'subtract'",
     "output_type": "error",
     "traceback": [
      "\u001b[1;31m---------------------------------------------------------------------------\u001b[0m",
      "\u001b[1;31mAttributeError\u001b[0m                            Traceback (most recent call last)",
      "Cell \u001b[1;32mIn[70], line 2\u001b[0m\n\u001b[0;32m      1\u001b[0m calc \u001b[38;5;241m=\u001b[39m Calculator()\n\u001b[1;32m----> 2\u001b[0m calc\u001b[38;5;241m.\u001b[39madd(\u001b[38;5;241m10\u001b[39m)\u001b[38;5;241m.\u001b[39msubtract(\u001b[38;5;241m3\u001b[39m)\u001b[38;5;241m.\u001b[39mmultiply(\u001b[38;5;241m2\u001b[39m)\u001b[38;5;241m.\u001b[39mdivide(\u001b[38;5;241m2\u001b[39m)\n\u001b[0;32m      3\u001b[0m \u001b[38;5;28mprint\u001b[39m(calc\u001b[38;5;241m.\u001b[39mvalue)\n",
      "\u001b[1;31mAttributeError\u001b[0m: 'NoneType' object has no attribute 'subtract'"
     ]
    }
   ],
   "source": [
    "calc = Calculator()\n",
    "calc.add(10).subtract(3).multiply(2).divide(2)\n",
    "print(calc.value)  # 7.0"
   ]
  },
  {
   "cell_type": "markdown",
   "metadata": {},
   "source": [
    "# Module: Inheritance Assignments\n",
    "\n",
    "### Assignment 1: Single Inheritance Basic\n",
    "\n",
    "Create a base class named `Animal` with attributes `name` and `species`. Create a derived class named `Dog` that inherits from `Animal` and adds an attribute `breed`. Create an object of the `Dog` class and print its attributes."
   ]
  },
  {
   "cell_type": "markdown",
   "metadata": {},
   "source": [
    "### Assignment 2: Method Overriding in Single Inheritance\n",
    "\n",
    "In the `Dog` class, override the `__str__` method to return a string representation of the object. Create an object of the class and print it."
   ]
  },
  {
   "cell_type": "markdown",
   "metadata": {},
   "source": [
    "### Assignment 3: Single Inheritance with Additional Methods\n",
    "\n",
    "In the `Dog` class, add a method named `bark` that prints a barking sound. Create an object of the class and call the method."
   ]
  },
  {
   "cell_type": "code",
   "execution_count": 75,
   "metadata": {},
   "outputs": [],
   "source": [
    "class Animal:\n",
    "\n",
    "    def __init__(self,name,species):\n",
    "        self.name = name \n",
    "        self.species = species \n",
    "\n",
    "    \n",
    "class Dog (Animal):\n",
    "\n",
    "    def __init__(self, name, species,breed):\n",
    "        super().__init__(name, species)\n",
    "        self.breed = breed\n",
    "\n",
    "    def __str__(self) -> str:\n",
    "        return f\"The animal name is {self.name},species is {self.species} and breed is {self.breed}\"\n",
    "    \n",
    "    def bark (self):\n",
    "        return \"Sound of Dog\"\n",
    "    "
   ]
  },
  {
   "cell_type": "code",
   "execution_count": 76,
   "metadata": {},
   "outputs": [
    {
     "data": {
      "text/plain": [
       "'Sound of Dog'"
      ]
     },
     "execution_count": 76,
     "metadata": {},
     "output_type": "execute_result"
    }
   ],
   "source": [
    "D = Dog(\"Wooky\",\"sOME\",\"NoBody\")\n",
    "D.bark()"
   ]
  },
  {
   "cell_type": "markdown",
   "metadata": {},
   "source": [
    "### Assignment 4: Multiple Inheritance Basic\n",
    "\n",
    "Create a base class named `Walker` with a method `walk` that prints a walking message. Create another base class named `Runner` with a method `run` that prints a running message. Create a derived class named `Athlete` that inherits from both `Walker` and `Runner`. Create an object of the `Athlete` class and call both methods."
   ]
  },
  {
   "cell_type": "code",
   "execution_count": 77,
   "metadata": {},
   "outputs": [
    {
     "name": "stdout",
     "output_type": "stream",
     "text": [
      "Walking...\n",
      "Running...\n"
     ]
    }
   ],
   "source": [
    "class Walker:\n",
    "    def walk(self):\n",
    "        print(\"Walking...\")\n",
    "\n",
    "class Runner:\n",
    "    def run(self):\n",
    "        print(\"Running...\")\n",
    "\n",
    "class Athlete(Walker, Runner):\n",
    "    pass\n",
    "\n",
    "athlete = Athlete()\n",
    "athlete.walk()\n",
    "athlete.run()"
   ]
  },
  {
   "cell_type": "markdown",
   "metadata": {},
   "source": [
    "### Assignment 5: Method Resolution Order (MRO) in Multiple Inheritance\n",
    "\n",
    "In the `Athlete` class, override the `walk` method to print a different message. Create an object of the class and call the `walk` method. Use the `super()` function to call the `walk` method of the `Walker` class."
   ]
  },
  {
   "cell_type": "code",
   "execution_count": 78,
   "metadata": {},
   "outputs": [],
   "source": [
    "class Athlete(Walker, Runner):\n",
    "    def walk(self):\n",
    "        print(\"Athlete walking...\")\n",
    "        return super().walk()"
   ]
  },
  {
   "cell_type": "code",
   "execution_count": 80,
   "metadata": {},
   "outputs": [
    {
     "name": "stdout",
     "output_type": "stream",
     "text": [
      "Athlete walking...\n",
      "Walking...\n"
     ]
    }
   ],
   "source": [
    "athlete = Athlete()\n",
    "athlete.walk()"
   ]
  },
  {
   "cell_type": "markdown",
   "metadata": {},
   "source": [
    "### Assignment 7: Diamond Problem in Multiple Inheritance\n",
    "\n",
    "Create a class named `A` with a method `show` that prints a message. Create two derived classes `B` and `C` that inherit from `A` and override the `show` method. Create a class `D` that inherits from both `B` and `C`. Create an object of the `D` class and call the `show` method. Observe the method resolution order."
   ]
  },
  {
   "cell_type": "code",
   "execution_count": 81,
   "metadata": {},
   "outputs": [],
   "source": [
    "class A:\n",
    "    def show ():\n",
    "        print(\"Hello from the base class\")\n",
    "\n",
    "class B (A):\n",
    "    def show (self):\n",
    "        print(\"Hello from B derived class\")\n",
    "\n",
    "class C (A):\n",
    "    def show (self):\n",
    "        print(\"Hello from C derived class\")\n",
    "\n",
    "class D(B,C):\n",
    "    pass\n",
    " "
   ]
  },
  {
   "cell_type": "code",
   "execution_count": 82,
   "metadata": {},
   "outputs": [
    {
     "name": "stdout",
     "output_type": "stream",
     "text": [
      "Hello from B derived class\n"
     ]
    }
   ],
   "source": [
    "t = D()\n",
    "t.show()"
   ]
  },
  {
   "cell_type": "code",
   "execution_count": 83,
   "metadata": {},
   "outputs": [],
   "source": [
    "class A:\n",
    "    def show ():\n",
    "        print(\"Hello from the base class\")\n",
    "\n",
    "class B (A):\n",
    "    def show (self):\n",
    "        print(\"Hello from B derived class\")\n",
    "\n",
    "class C (A):\n",
    "    def show (self):\n",
    "        print(\"Hello from C derived class\")\n",
    "\n",
    "class D(C,B):\n",
    "    pass\n",
    " "
   ]
  },
  {
   "cell_type": "code",
   "execution_count": 84,
   "metadata": {},
   "outputs": [
    {
     "name": "stdout",
     "output_type": "stream",
     "text": [
      "Hello from C derived class\n"
     ]
    }
   ],
   "source": [
    "t = D()\n",
    "t.show()"
   ]
  },
  {
   "cell_type": "markdown",
   "metadata": {},
   "source": [
    "### Assignment 10: Method Overriding and `super()`\n",
    "\n",
    "Create a class named `Vehicle` with a method `start` that prints a starting message. Create a derived class `Car` that overrides the `start` method to print a different message. Use the `super()` function to call the `start` method of the `Vehicle` class. Create an object of the `Car` class and call the `start` method."
   ]
  },
  {
   "cell_type": "code",
   "execution_count": 85,
   "metadata": {},
   "outputs": [
    {
     "name": "stdout",
     "output_type": "stream",
     "text": [
      "Car started ...\n",
      "Vehicle start ...\n"
     ]
    }
   ],
   "source": [
    "class Vehicle:\n",
    "    def start (self):\n",
    "        print(\"Vehicle start ...\")\n",
    "\n",
    "class Car (Vehicle):\n",
    "    def start (self):\n",
    "        print(\"Car started ...\")\n",
    "        super().start()\n",
    "    \n",
    "c = Car()\n",
    "c.start()"
   ]
  },
  {
   "cell_type": "code",
   "execution_count": 86,
   "metadata": {},
   "outputs": [],
   "source": [
    "b = Vehicle()"
   ]
  },
  {
   "cell_type": "code",
   "execution_count": 87,
   "metadata": {},
   "outputs": [
    {
     "data": {
      "text/plain": [
       "True"
      ]
     },
     "execution_count": 87,
     "metadata": {},
     "output_type": "execute_result"
    }
   ],
   "source": [
    "isinstance(b,Vehicle)"
   ]
  },
  {
   "cell_type": "code",
   "execution_count": 88,
   "metadata": {},
   "outputs": [
    {
     "data": {
      "text/plain": [
       "True"
      ]
     },
     "execution_count": 88,
     "metadata": {},
     "output_type": "execute_result"
    }
   ],
   "source": [
    "isinstance(c,Vehicle)"
   ]
  },
  {
   "cell_type": "code",
   "execution_count": 89,
   "metadata": {},
   "outputs": [
    {
     "data": {
      "text/plain": [
       "False"
      ]
     },
     "execution_count": 89,
     "metadata": {},
     "output_type": "execute_result"
    }
   ],
   "source": [
    "isinstance(b,Car)"
   ]
  },
  {
   "cell_type": "code",
   "execution_count": 90,
   "metadata": {},
   "outputs": [
    {
     "data": {
      "text/plain": [
       "True"
      ]
     },
     "execution_count": 90,
     "metadata": {},
     "output_type": "execute_result"
    }
   ],
   "source": [
    "isinstance(c,Car)"
   ]
  },
  {
   "cell_type": "markdown",
   "metadata": {},
   "source": [
    "### Assignment 14: Polymorphism with Inheritance\n",
    "\n",
    "Create a base class named `Bird` with a method `speak`. Create two derived classes `Parrot` and `Penguin` that override the `speak` method. Create a list of `Bird` objects and call the `speak` method on each object to demonstrate polymorphism."
   ]
  },
  {
   "cell_type": "code",
   "execution_count": 91,
   "metadata": {},
   "outputs": [],
   "source": [
    "class Bird:\n",
    "    def speak(self):\n",
    "        pass\n",
    "\n",
    "class Parrot(Bird):\n",
    "    def speak(self):\n",
    "        print(\"Parrot says: Squawk!\")\n",
    "\n",
    "class Penguin(Bird):\n",
    "    def speak(self):\n",
    "        print(\"Penguin says: Honk!\")\n"
   ]
  },
  {
   "cell_type": "code",
   "execution_count": 92,
   "metadata": {},
   "outputs": [
    {
     "name": "stdout",
     "output_type": "stream",
     "text": [
      "Parrot says: Squawk!\n",
      "Penguin says: Honk!\n"
     ]
    }
   ],
   "source": [
    "\n",
    "birds = [Parrot(), Penguin()]\n",
    "for bird in birds:\n",
    "    bird.speak()"
   ]
  },
  {
   "cell_type": "markdown",
   "metadata": {},
   "source": [
    "# Module: OOP Assignments\n",
    "## Lesson: Polymorphism, Abstraction, and Encapsulation\n",
    "### Assignment 1: Polymorphism with Methods\n",
    "\n",
    "Create a base class named `Shape` with a method `area`. Create two derived classes `Circle` and `Square` that override the `area` method. Create a list of `Shape` objects and call the `area` method on each object to demonstrate polymorphism."
   ]
  },
  {
   "cell_type": "markdown",
   "metadata": {},
   "source": [
    "### Assignment 4: Abstract Base Class with Concrete Methods\n",
    "\n",
    "In the `Vehicle` class, add a concrete method `fuel_type` that returns a generic fuel type. Override this method in `Car` and `Bike` classes to return specific fuel types. Create objects of the derived classes and call the `fuel_type` method."
   ]
  },
  {
   "cell_type": "code",
   "execution_count": 1,
   "metadata": {},
   "outputs": [],
   "source": [
    "from abc import ABC, abstractmethod\n",
    "\n",
    "class Vehicle(ABC):\n",
    "    @abstractmethod\n",
    "    def start_engine(self):\n",
    "        pass\n",
    "    @abstractmethod\n",
    "    def fuel_type (self):\n",
    "        pass\n",
    "\n",
    "\n",
    "class Car(Vehicle):\n",
    "    def start_engine(self):\n",
    "        print(\"Car engine started\")\n",
    "    \n",
    "    def fuel_type (self):\n",
    "        print(\"Fuel type of the car\")\n",
    "\n",
    "        \n",
    "class Bike(Vehicle):\n",
    "    def start_engine(self):\n",
    "        print(\"Bike engine started\")\n",
    "    def fuel_type (self):\n",
    "        print(\"Fuel type of the bike\")\n",
    "\n",
    "# Test\n",
    "# car = Car()\n",
    "# bike = Bike()\n",
    "# car.start_engine()\n",
    "# bike.start_engine()"
   ]
  },
  {
   "cell_type": "code",
   "execution_count": 4,
   "metadata": {},
   "outputs": [
    {
     "name": "stdout",
     "output_type": "stream",
     "text": [
      "Fuel type of the car\n"
     ]
    }
   ],
   "source": [
    "car = Car()\n",
    "bike = Bike()\n",
    "car.fuel_type()"
   ]
  },
  {
   "cell_type": "code",
   "execution_count": 5,
   "metadata": {},
   "outputs": [
    {
     "name": "stdout",
     "output_type": "stream",
     "text": [
      "Fuel type of the bike\n"
     ]
    }
   ],
   "source": [
    "bike.fuel_type()"
   ]
  },
  {
   "cell_type": "markdown",
   "metadata": {},
   "source": [
    "### Assignment 5: Encapsulation with Private Attributes\n",
    "\n",
    "Create a class named `BankAccount` with private attributes `account_number` and `balance`. Add methods to deposit and withdraw money, and to check the balance. Ensure that the balance cannot be accessed directly."
   ]
  },
  {
   "cell_type": "code",
   "execution_count": 6,
   "metadata": {},
   "outputs": [],
   "source": [
    "class NotEnoughBalance(Exception):\n",
    "    pass\n",
    "\n",
    "class BankAccount:\n",
    "\n",
    "    def __init__(self,account_num,balance):\n",
    "        self._account_num = account_num\n",
    "        self._balance = balance\n",
    "\n",
    "    @property\n",
    "    def get_balance (self):\n",
    "        return self._balance\n",
    "    \n",
    "    @get_balance.setter\n",
    "    def set_balance (self,new_balance):\n",
    "        self._balance = new_balance \n",
    "    \n",
    "    def deposit(self,amount):\n",
    "        self._balance += amount \n",
    "        print(f\"the amount {amount} has been successfully added to your balance, your balance now is {self._balance}\")\n",
    "\n",
    "    def withdrow(self,amount):\n",
    "        if amount > self._balance:\n",
    "            raise NotEnoughBalance(\"Sorry, Not enough balance !\")\n",
    "        else:\n",
    "            self._balance -= amount\n",
    "            print(f\"the amount {amount} has been successfully withdrawn, your balance now is {self._balance}\")\n",
    "\n"
   ]
  },
  {
   "cell_type": "code",
   "execution_count": 9,
   "metadata": {},
   "outputs": [],
   "source": [
    "new_acc = BankAccount(2342,10000)"
   ]
  },
  {
   "cell_type": "code",
   "execution_count": 10,
   "metadata": {},
   "outputs": [
    {
     "ename": "TypeError",
     "evalue": "'int' object is not callable",
     "output_type": "error",
     "traceback": [
      "\u001b[1;31m---------------------------------------------------------------------------\u001b[0m",
      "\u001b[1;31mTypeError\u001b[0m                                 Traceback (most recent call last)",
      "Cell \u001b[1;32mIn[10], line 1\u001b[0m\n\u001b[1;32m----> 1\u001b[0m new_acc\u001b[38;5;241m.\u001b[39mget_balance()\n",
      "\u001b[1;31mTypeError\u001b[0m: 'int' object is not callable"
     ]
    }
   ],
   "source": [
    "new_acc.get_balance()"
   ]
  },
  {
   "cell_type": "markdown",
   "metadata": {},
   "source": [
    "#### If you used the traditional method [getter,setter] methods, you cannot access then as usual like this getter()."
   ]
  },
  {
   "cell_type": "code",
   "execution_count": 79,
   "metadata": {},
   "outputs": [],
   "source": [
    "class NotEnoughBalance(Exception):\n",
    "    pass\n",
    "\n",
    "class BankAccount:\n",
    "\n",
    "    def __init__(self,account_num,balance):\n",
    "        self._account_num = account_num\n",
    "        self.__balance = balance\n",
    "\n",
    "    @property\n",
    "    def bal (self):\n",
    "        return self.__balance\n",
    "    \n",
    "    @bal.setter\n",
    "    def bal (self,new_balance):\n",
    "        self.__balance = new_balance \n",
    "    \n",
    "    def deposit(self,amount):\n",
    "        self.__balance += amount \n",
    "        print(f\"the amount {amount} has been successfully added to your balance, your balance now is {self.__balance}\")\n",
    "\n",
    "    def withdrow(self,amount):\n",
    "        if amount > self.__balance:\n",
    "            raise NotEnoughBalance(\"Sorry, Not enough balance !\")\n",
    "        else:\n",
    "            self.__balance -= amount\n",
    "            print(f\"the amount {amount} has been successfully withdrawn, your balance now is {self.__balance}\")\n",
    "\n"
   ]
  },
  {
   "cell_type": "code",
   "execution_count": 80,
   "metadata": {},
   "outputs": [],
   "source": [
    "new_acc=BankAccount(200,5000)"
   ]
  },
  {
   "cell_type": "code",
   "execution_count": 27,
   "metadata": {},
   "outputs": [],
   "source": [
    "new_acc.bal = 20000"
   ]
  },
  {
   "cell_type": "code",
   "execution_count": 29,
   "metadata": {},
   "outputs": [
    {
     "data": {
      "text/plain": [
       "20000"
      ]
     },
     "execution_count": 29,
     "metadata": {},
     "output_type": "execute_result"
    }
   ],
   "source": [
    "new_acc.bal"
   ]
  },
  {
   "cell_type": "code",
   "execution_count": 81,
   "metadata": {},
   "outputs": [
    {
     "name": "stdout",
     "output_type": "stream",
     "text": [
      "Sorry, Not enough balance !\n"
     ]
    }
   ],
   "source": [
    "try:\n",
    "    new_acc.withdrow(30000)\n",
    "except NotEnoughBalance as e:\n",
    "    print(e)"
   ]
  },
  {
   "cell_type": "code",
   "execution_count": 30,
   "metadata": {},
   "outputs": [],
   "source": [
    "class BankAccount:\n",
    "    def __init__(self, account_number, balance=0):\n",
    "        self.__account_number = account_number\n",
    "        self.__balance = balance\n",
    "\n",
    "    def deposit(self, amount):\n",
    "        self.__balance += amount\n",
    "\n",
    "    def withdraw(self, amount):\n",
    "        if amount > self.__balance:\n",
    "            print(\"Insufficient balance!\")\n",
    "        else:\n",
    "            self.__balance -= amount\n",
    "\n",
    "    def check_balance(self):\n",
    "        return self.__balance   #private attribute\n",
    "\n",
    "# Test\n",
    "# account = BankAccount('12345678', 1000)\n",
    "# account.deposit(500)\n",
    "# account.withdraw(200)\n",
    "# print(account.check_balance())  # 1300\n",
    "# account.withdraw(2000)  # Insufficient balance!"
   ]
  },
  {
   "cell_type": "code",
   "execution_count": 31,
   "metadata": {},
   "outputs": [],
   "source": [
    "new_acc = BankAccount(2,323)"
   ]
  },
  {
   "cell_type": "code",
   "execution_count": 32,
   "metadata": {},
   "outputs": [
    {
     "data": {
      "text/plain": [
       "323"
      ]
     },
     "execution_count": 32,
     "metadata": {},
     "output_type": "execute_result"
    }
   ],
   "source": [
    "new_acc.check_balance()"
   ]
  },
  {
   "cell_type": "markdown",
   "metadata": {},
   "source": [
    "### Assignment 11: Polymorphism with Operator Overloading\n",
    "\n",
    "Create a class named `Vector` with attributes `x` and `y`. Overload the `+` operator to add two `Vector` objects. Create objects of the class and test the operator overloading."
   ]
  },
  {
   "cell_type": "code",
   "execution_count": 74,
   "metadata": {},
   "outputs": [],
   "source": [
    "class Vector:\n",
    "\n",
    "    def __init__(self,x,y):\n",
    "        self.x = x\n",
    "        self.y = y\n",
    "\n",
    "    def __add__(self,other):  # if you would like to add like this(v3 = v1+v2)\n",
    "        return Vector(self.x+other.x, self.y+other.y)\n",
    "    \n",
    "    def add(self,x,y):     # if you would like to add like this (v1.add(2,3))\n",
    "        self.x = self.x + x\n",
    "        self.y = self.y + y\n",
    "        return self\n",
    "    \n",
    "    def __str__(self):\n",
    "        return f\"x = {self.x}, y = {self.y}\" # you need to return the string not using print()\n",
    "        \n",
    "    \n"
   ]
  },
  {
   "cell_type": "code",
   "execution_count": 75,
   "metadata": {},
   "outputs": [],
   "source": [
    "v1 = Vector(3,4)"
   ]
  },
  {
   "cell_type": "code",
   "execution_count": 68,
   "metadata": {},
   "outputs": [],
   "source": [
    "v2 = Vector(1,4)"
   ]
  },
  {
   "cell_type": "code",
   "execution_count": 69,
   "metadata": {},
   "outputs": [],
   "source": [
    "v3 = v1 + v2"
   ]
  },
  {
   "cell_type": "code",
   "execution_count": 70,
   "metadata": {},
   "outputs": [
    {
     "name": "stdout",
     "output_type": "stream",
     "text": [
      "x = 4, y = 8\n"
     ]
    }
   ],
   "source": [
    "print(v3)"
   ]
  },
  {
   "cell_type": "code",
   "execution_count": 76,
   "metadata": {},
   "outputs": [
    {
     "data": {
      "text/plain": [
       "'x = 3, y = 4'"
      ]
     },
     "execution_count": 76,
     "metadata": {},
     "output_type": "execute_result"
    }
   ],
   "source": [
    "v1.__str__()"
   ]
  },
  {
   "cell_type": "code",
   "execution_count": 77,
   "metadata": {},
   "outputs": [
    {
     "data": {
      "text/plain": [
       "<__main__.Vector at 0x23dd9be4ad0>"
      ]
     },
     "execution_count": 77,
     "metadata": {},
     "output_type": "execute_result"
    }
   ],
   "source": [
    "v1.add(2,3).add(1,2)"
   ]
  },
  {
   "cell_type": "code",
   "execution_count": 78,
   "metadata": {},
   "outputs": [
    {
     "name": "stdout",
     "output_type": "stream",
     "text": [
      "x = 6, y = 9\n"
     ]
    }
   ],
   "source": [
    "print(v1)"
   ]
  },
  {
   "cell_type": "code",
   "execution_count": 73,
   "metadata": {},
   "outputs": [
    {
     "data": {
      "text/plain": [
       "'x = 1, y = 4'"
      ]
     },
     "execution_count": 73,
     "metadata": {},
     "output_type": "execute_result"
    }
   ],
   "source": [
    "v2.__str__()"
   ]
  },
  {
   "cell_type": "code",
   "execution_count": null,
   "metadata": {},
   "outputs": [],
   "source": []
  }
 ],
 "metadata": {
  "kernelspec": {
   "display_name": "base",
   "language": "python",
   "name": "python3"
  },
  "language_info": {
   "codemirror_mode": {
    "name": "ipython",
    "version": 3
   },
   "file_extension": ".py",
   "mimetype": "text/x-python",
   "name": "python",
   "nbconvert_exporter": "python",
   "pygments_lexer": "ipython3",
   "version": "3.12.4"
  }
 },
 "nbformat": 4,
 "nbformat_minor": 2
}
